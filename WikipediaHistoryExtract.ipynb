{
 "cells": [
  {
   "cell_type": "code",
   "execution_count": null,
   "id": "ced165e1",
   "metadata": {},
   "outputs": [],
   "source": [
    "#Wikipedia History Log Extract - Hidden Treasures"
   ]
  },
  {
   "cell_type": "code",
   "execution_count": null,
   "id": "98bfae50",
   "metadata": {},
   "outputs": [],
   "source": [
    "#Jupyter Notebook, Python3; to be improved. "
   ]
  },
  {
   "cell_type": "code",
   "execution_count": null,
   "id": "7da11e9f",
   "metadata": {},
   "outputs": [],
   "source": [
    "#Copyright [Klaus Zinser] [name of copyright owner]\n",
    "#Licensed under the Apache License, Version 2.0 (the \"License\");\n",
    "#you may not use this file except in compliance with the License.\n",
    "#You may obtain a copy of the License at\n",
    "#    http://www.apache.org/licenses/LICENSE-2.0\n",
    "#Unless required by applicable law or agreed to in writing, software\n",
    "#distributed under the License is distributed on an \"AS IS\" BASIS,\n",
    "#WITHOUT WARRANTIES OR CONDITIONS OF ANY KIND, either express or implied.\n",
    "#See the License for the specific language governing permissions and\n",
    "#limitations under the License."
   ]
  },
  {
   "cell_type": "code",
   "execution_count": 1,
   "id": "f9edec0a",
   "metadata": {},
   "outputs": [],
   "source": [
    "import requests\n",
    "import sqlite3\n",
    "import pandas as pd\n",
    "import difflib\n",
    "import random\n",
    "import time"
   ]
  },
  {
   "cell_type": "code",
   "execution_count": 2,
   "id": "d5115c9c",
   "metadata": {},
   "outputs": [],
   "source": [
    "def get_revision_text(rev_id):\n",
    "    \"\"\"Takes full text of one Wikipedia Revision.\"\"\"\n",
    "    params = {\n",
    "        \"action\": \"query\",\n",
    "        \"format\": \"json\",\n",
    "        \"prop\": \"revisions\",\n",
    "        \"revids\": rev_id,\n",
    "        \"rvprop\": \"content\"\n",
    "    }\n",
    "    response = requests.get(endpoint, params=params).json()\n",
    "    page = next(iter(response['query']['pages'].values()))\n",
    "    return page['revisions'][0]['*']"
   ]
  },
  {
   "cell_type": "code",
   "execution_count": 3,
   "id": "e4a08b14",
   "metadata": {},
   "outputs": [],
   "source": [
    "#Function definition\n",
    "def calculate_diff(prev_text, curr_text):\n",
    "    \"\"\"Extracts the difference between two versions.\"\"\"\n",
    "    diff = difflib.unified_diff(prev_text.splitlines(keepends=True),\n",
    "                                curr_text.splitlines(keepends=True),\n",
    "                                fromfile='prev', tofile='curr', lineterm='')\n",
    "    return '\\n'.join(diff)"
   ]
  },
  {
   "cell_type": "code",
   "execution_count": 4,
   "id": "81cddaca",
   "metadata": {},
   "outputs": [],
   "source": [
    "# Wikipedia-Article; for now British Family Court Judges; should work everwhere\n",
    "article_title = \"Judith_Parker\"\n",
    "#article_title = \"James_Munby\"\n",
    "#article_title = \"Ernest_Ryder\"\n",
    "#article_title = \"Andrew_McFarlane_(judge)\""
   ]
  },
  {
   "cell_type": "code",
   "execution_count": 5,
   "id": "9b0dec50",
   "metadata": {},
   "outputs": [],
   "source": [
    "# Wikipedia API Endpoint\n",
    "endpoint = f\"https://en.wikipedia.org/w/api.php\""
   ]
  },
  {
   "cell_type": "code",
   "execution_count": 6,
   "id": "ac6c4a7c",
   "metadata": {},
   "outputs": [],
   "source": [
    "# SQL-Database Connection\n",
    "conn = sqlite3.connect('wikipedia_history.db')\n",
    "cursor = conn.cursor()"
   ]
  },
  {
   "cell_type": "code",
   "execution_count": 7,
   "id": "92f08430",
   "metadata": {},
   "outputs": [
    {
     "data": {
      "text/plain": [
       "<sqlite3.Cursor at 0x112cdf110>"
      ]
     },
     "execution_count": 7,
     "metadata": {},
     "output_type": "execute_result"
    }
   ],
   "source": [
    "# Create Database Table\n",
    "cursor.execute('''\n",
    "CREATE TABLE IF NOT EXISTS history (\n",
    "    rev_id INTEGER PRIMARY KEY,\n",
    "    parent_id INTEGER,\n",
    "    user TEXT,\n",
    "    timestamp TEXT,\n",
    "    size INTEGER,\n",
    "    comment TEXT\n",
    ")\n",
    "''')"
   ]
  },
  {
   "cell_type": "code",
   "execution_count": 8,
   "id": "6d84f757",
   "metadata": {},
   "outputs": [
    {
     "data": {
      "text/plain": [
       "<sqlite3.Cursor at 0x112cdf110>"
      ]
     },
     "execution_count": 8,
     "metadata": {},
     "output_type": "execute_result"
    }
   ],
   "source": [
    "#create database Table for difference text entries\n",
    "cursor.execute('''\n",
    "CREATE TABLE IF NOT EXISTS text_diffs (\n",
    "    rev_id INTEGER,\n",
    "    diff TEXT,\n",
    "    FOREIGN KEY (rev_id) REFERENCES history(rev_id)\n",
    ")\n",
    "''')"
   ]
  },
  {
   "cell_type": "code",
   "execution_count": 9,
   "id": "a345c5a5",
   "metadata": {},
   "outputs": [],
   "source": [
    "# Parameter für die API-Anfrage\n",
    "params = {\n",
    "    \"action\": \"query\",\n",
    "    \"format\": \"json\",\n",
    "    \"titles\": article_title,\n",
    "    \"prop\": \"revisions\",\n",
    "    \"rvlimit\": \"max\",\n",
    "    \"rvprop\": \"ids|timestamp|user|size|comment\"\n",
    "}"
   ]
  },
  {
   "cell_type": "code",
   "execution_count": 10,
   "id": "0cb5ef91",
   "metadata": {},
   "outputs": [],
   "source": [
    "# API-Anfrage\n",
    "response = requests.get(endpoint, params=params).json()\n",
    "pages = response['query']['pages']"
   ]
  },
  {
   "cell_type": "code",
   "execution_count": null,
   "id": "b0b17078",
   "metadata": {},
   "outputs": [],
   "source": [
    "# print(response)"
   ]
  },
  {
   "cell_type": "code",
   "execution_count": null,
   "id": "3ee297a1",
   "metadata": {},
   "outputs": [],
   "source": [
    "# print(pages)"
   ]
  },
  {
   "cell_type": "code",
   "execution_count": 11,
   "id": "7284da5e",
   "metadata": {},
   "outputs": [
    {
     "name": "stdout",
     "output_type": "stream",
     "text": [
      "1185160788\n",
      "1173834512\n",
      "1166851230\n",
      "1166851138\n",
      "1117733288\n",
      "1109874560\n",
      "1083093025\n",
      "1070857400\n",
      "1070857149\n",
      "1066222690\n",
      "1034367523\n",
      "1032218741\n",
      "888470284\n",
      "882962230\n",
      "882854716\n",
      "882833399\n",
      "882614812\n",
      "858559695\n",
      "856632022\n",
      "849363019\n",
      "834100609\n",
      "813166849\n",
      "784764585\n",
      "763907194\n",
      "763907061\n",
      "760548983\n",
      "726280599\n",
      "726184829\n",
      "726183945\n",
      "726183837\n",
      "726183658\n",
      "726183417\n",
      "726182835\n",
      "726182672\n",
      "726182024\n",
      "726181987\n",
      "726181919\n",
      "726178843\n",
      "726178742\n",
      "726178211\n",
      "726178181\n",
      "726178105\n",
      "726177982\n",
      "726177727\n",
      "726176995\n",
      "726176502\n",
      "726176256\n",
      "725346948\n",
      "725346769\n",
      "724524678\n",
      "714347259\n",
      "714257320\n",
      "694084651\n",
      "613643354\n",
      "613496484\n"
     ]
    }
   ],
   "source": [
    "# Revisionsdaten extrahieren und in SQL einfügen\n",
    "for page_id in pages:\n",
    "    revisions = pages[page_id]['revisions']\n",
    "    prev_rev = 1171811265\n",
    "    for rev in revisions:\n",
    "        cursor.execute('''\n",
    "        INSERT OR IGNORE INTO history (rev_id, parent_id, user, timestamp, size, comment)\n",
    "        VALUES (?, ?, ?, ?, ?, ?)\n",
    "        ''', (rev['revid'], rev.get('parentid'), rev['user'], rev['timestamp'], rev['size'], rev.get('comment')))\n",
    "\n",
    "        prev_text = get_revision_text(prev_rev) #version number from Line above\n",
    "        curr_text = get_revision_text(rev['revid'])  # Current Revision-ID\n",
    "        diff = calculate_diff(prev_text, curr_text)\n",
    "        \n",
    "        ## Example: Store Difference in Database #INSERT INTO text_diffs (prev_rev_id, rev_id, diff) #''', (prev_rev_id, curr_rev_id, diff))\n",
    "        cursor.execute('''\n",
    "        INSERT INTO text_diffs (rev_id, diff)\n",
    "        VALUES (?, ?)\n",
    "        ''', (rev['revid'], diff))\n",
    "        prev_rev = rev['revid']\n",
    "        #conn.commit()\n",
    "        print(prev_rev)\n",
    "        time.sleep(random.randint(3, 8))"
   ]
  },
  {
   "cell_type": "code",
   "execution_count": 12,
   "id": "1a6ff349",
   "metadata": {},
   "outputs": [],
   "source": [
    "# Änderungen speichern und Datenbankverbindung schließen #vor dem Commit existieren 2 Dateien, eine Journal. Danach eine\n",
    "conn.commit()\n",
    "conn.close()"
   ]
  },
  {
   "cell_type": "code",
   "execution_count": null,
   "id": "f1eeb578",
   "metadata": {},
   "outputs": [],
   "source": [
    "#Done under Apple OS\n",
    "#Rename DB e.g. With Subject/Person Name\n",
    "#Open DB with DB Browser for SQLite (etc)\n",
    "#Export Table text_diffs to *.csv\n",
    "#Open CSV File with Text Editor\n",
    "#Print to pdf from TextEditor"
   ]
  }
 ],
 "metadata": {
  "kernelspec": {
   "display_name": "Python 3 (ipykernel)",
   "language": "python",
   "name": "python3"
  },
  "language_info": {
   "codemirror_mode": {
    "name": "ipython",
    "version": 3
   },
   "file_extension": ".py",
   "mimetype": "text/x-python",
   "name": "python",
   "nbconvert_exporter": "python",
   "pygments_lexer": "ipython3",
   "version": "3.9.7"
  }
 },
 "nbformat": 4,
 "nbformat_minor": 5
}
